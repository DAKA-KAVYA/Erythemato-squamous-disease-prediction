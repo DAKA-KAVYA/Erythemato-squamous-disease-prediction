{
 "cells": [
  {
   "cell_type": "markdown",
   "id": "03cdbe65",
   "metadata": {},
   "source": [
    "# EDA"
   ]
  },
  {
   "cell_type": "code",
   "execution_count": 1,
   "id": "0f12d1aa",
   "metadata": {},
   "outputs": [],
   "source": [
    "import pandas as pd\n",
    "import seaborn as sns\n"
   ]
  },
  {
   "cell_type": "code",
   "execution_count": 2,
   "id": "eb3f4d26",
   "metadata": {},
   "outputs": [],
   "source": [
    "df = pd.read_csv(\"dermatologyDataset.csv\")"
   ]
  },
  {
   "cell_type": "code",
   "execution_count": 3,
   "id": "636f7d3c",
   "metadata": {},
   "outputs": [
    {
     "name": "stdout",
     "output_type": "stream",
     "text": [
      "<class 'pandas.core.frame.DataFrame'>\n",
      "RangeIndex: 366 entries, 0 to 365\n",
      "Data columns (total 35 columns):\n",
      " #   Column                               Non-Null Count  Dtype \n",
      "---  ------                               --------------  ----- \n",
      " 0   erythema                             366 non-null    int64 \n",
      " 1   scaling                              366 non-null    int64 \n",
      " 2   definite_borders                     366 non-null    int64 \n",
      " 3   itching                              366 non-null    int64 \n",
      " 4   koebner_phenomenon                   366 non-null    int64 \n",
      " 5   polygonal_papules                    366 non-null    int64 \n",
      " 6   follicular_papules                   366 non-null    int64 \n",
      " 7   oral_mucosal_involvement             366 non-null    int64 \n",
      " 8   knee_and_elbow_involvement           366 non-null    int64 \n",
      " 9   scalp_involvement                    366 non-null    int64 \n",
      " 10  family_history                       366 non-null    int64 \n",
      " 11  melanin_incontinence                 366 non-null    int64 \n",
      " 12  eosinophils_infiltrate               366 non-null    int64 \n",
      " 13  PNL_infiltrate                       366 non-null    int64 \n",
      " 14  fibrosis_papillary_dermis            366 non-null    int64 \n",
      " 15  exocytosis                           366 non-null    int64 \n",
      " 16  acanthosis                           366 non-null    int64 \n",
      " 17  hyperkeratosis                       366 non-null    int64 \n",
      " 18  parakeratosis                        366 non-null    int64 \n",
      " 19  clubbing_rete_ridges                 366 non-null    int64 \n",
      " 20  elongation_rete_ridges               366 non-null    int64 \n",
      " 21  thinning_suprapapillary_epidermis    366 non-null    int64 \n",
      " 22  spongiform_pustule                   366 non-null    int64 \n",
      " 23  munro_microabcess                    366 non-null    int64 \n",
      " 24  focal_hypergranulosis                366 non-null    int64 \n",
      " 25  disappearance_granular_layer         366 non-null    int64 \n",
      " 26  vacuolisation_damage_basal_layer     366 non-null    int64 \n",
      " 27  spongiosis                           366 non-null    int64 \n",
      " 28  saw_tooth_appearance_retes           366 non-null    int64 \n",
      " 29  follicular_horn_plug                 366 non-null    int64 \n",
      " 30  perifollicular_parakeratosis         366 non-null    int64 \n",
      " 31  inflammatory_mononuclear_infiltrate  366 non-null    int64 \n",
      " 32  band_like_infiltrate                 366 non-null    int64 \n",
      " 33  age                                  366 non-null    object\n",
      " 34  class                                366 non-null    int64 \n",
      "dtypes: int64(34), object(1)\n",
      "memory usage: 100.2+ KB\n"
     ]
    }
   ],
   "source": [
    "df.info()"
   ]
  },
  {
   "cell_type": "code",
   "execution_count": 4,
   "id": "424871fc",
   "metadata": {},
   "outputs": [
    {
     "data": {
      "text/plain": [
       "Index(['erythema', 'scaling', 'definite_borders', 'itching',\n",
       "       'koebner_phenomenon', 'polygonal_papules', 'follicular_papules',\n",
       "       'oral_mucosal_involvement', 'knee_and_elbow_involvement',\n",
       "       'scalp_involvement', 'family_history', 'melanin_incontinence',\n",
       "       'eosinophils_infiltrate', 'PNL_infiltrate', 'fibrosis_papillary_dermis',\n",
       "       'exocytosis', 'acanthosis', 'hyperkeratosis', 'parakeratosis',\n",
       "       'clubbing_rete_ridges', 'elongation_rete_ridges',\n",
       "       'thinning_suprapapillary_epidermis', 'spongiform_pustule',\n",
       "       'munro_microabcess', 'focal_hypergranulosis',\n",
       "       'disappearance_granular_layer', 'vacuolisation_damage_basal_layer',\n",
       "       'spongiosis', 'saw_tooth_appearance_retes', 'follicular_horn_plug',\n",
       "       'perifollicular_parakeratosis', 'inflammatory_mononuclear_infiltrate',\n",
       "       'band_like_infiltrate', 'age', 'class'],\n",
       "      dtype='object')"
      ]
     },
     "execution_count": 4,
     "metadata": {},
     "output_type": "execute_result"
    }
   ],
   "source": [
    "df.columns"
   ]
  },
  {
   "cell_type": "code",
   "execution_count": 5,
   "id": "ed2b1769",
   "metadata": {},
   "outputs": [
    {
     "data": {
      "text/plain": [
       "(366, 35)"
      ]
     },
     "execution_count": 5,
     "metadata": {},
     "output_type": "execute_result"
    }
   ],
   "source": [
    "df.shape"
   ]
  },
  {
   "cell_type": "code",
   "execution_count": 6,
   "id": "cf0b59de",
   "metadata": {},
   "outputs": [
    {
     "data": {
      "text/html": [
       "<div>\n",
       "<style scoped>\n",
       "    .dataframe tbody tr th:only-of-type {\n",
       "        vertical-align: middle;\n",
       "    }\n",
       "\n",
       "    .dataframe tbody tr th {\n",
       "        vertical-align: top;\n",
       "    }\n",
       "\n",
       "    .dataframe thead th {\n",
       "        text-align: right;\n",
       "    }\n",
       "</style>\n",
       "<table border=\"1\" class=\"dataframe\">\n",
       "  <thead>\n",
       "    <tr style=\"text-align: right;\">\n",
       "      <th></th>\n",
       "      <th>erythema</th>\n",
       "      <th>scaling</th>\n",
       "      <th>definite_borders</th>\n",
       "      <th>itching</th>\n",
       "      <th>koebner_phenomenon</th>\n",
       "      <th>polygonal_papules</th>\n",
       "      <th>follicular_papules</th>\n",
       "      <th>oral_mucosal_involvement</th>\n",
       "      <th>knee_and_elbow_involvement</th>\n",
       "      <th>scalp_involvement</th>\n",
       "      <th>...</th>\n",
       "      <th>focal_hypergranulosis</th>\n",
       "      <th>disappearance_granular_layer</th>\n",
       "      <th>vacuolisation_damage_basal_layer</th>\n",
       "      <th>spongiosis</th>\n",
       "      <th>saw_tooth_appearance_retes</th>\n",
       "      <th>follicular_horn_plug</th>\n",
       "      <th>perifollicular_parakeratosis</th>\n",
       "      <th>inflammatory_mononuclear_infiltrate</th>\n",
       "      <th>band_like_infiltrate</th>\n",
       "      <th>class</th>\n",
       "    </tr>\n",
       "  </thead>\n",
       "  <tbody>\n",
       "    <tr>\n",
       "      <th>count</th>\n",
       "      <td>366.000000</td>\n",
       "      <td>366.000000</td>\n",
       "      <td>366.000000</td>\n",
       "      <td>366.000000</td>\n",
       "      <td>366.000000</td>\n",
       "      <td>366.000000</td>\n",
       "      <td>366.000000</td>\n",
       "      <td>366.000000</td>\n",
       "      <td>366.000000</td>\n",
       "      <td>366.000000</td>\n",
       "      <td>...</td>\n",
       "      <td>366.000000</td>\n",
       "      <td>366.000000</td>\n",
       "      <td>366.000000</td>\n",
       "      <td>366.000000</td>\n",
       "      <td>366.000000</td>\n",
       "      <td>366.000000</td>\n",
       "      <td>366.000000</td>\n",
       "      <td>366.000000</td>\n",
       "      <td>366.000000</td>\n",
       "      <td>366.000000</td>\n",
       "    </tr>\n",
       "    <tr>\n",
       "      <th>mean</th>\n",
       "      <td>2.068306</td>\n",
       "      <td>1.795082</td>\n",
       "      <td>1.549180</td>\n",
       "      <td>1.366120</td>\n",
       "      <td>0.633880</td>\n",
       "      <td>0.448087</td>\n",
       "      <td>0.166667</td>\n",
       "      <td>0.377049</td>\n",
       "      <td>0.614754</td>\n",
       "      <td>0.519126</td>\n",
       "      <td>...</td>\n",
       "      <td>0.393443</td>\n",
       "      <td>0.464481</td>\n",
       "      <td>0.456284</td>\n",
       "      <td>0.953552</td>\n",
       "      <td>0.453552</td>\n",
       "      <td>0.103825</td>\n",
       "      <td>0.114754</td>\n",
       "      <td>1.866120</td>\n",
       "      <td>0.554645</td>\n",
       "      <td>2.803279</td>\n",
       "    </tr>\n",
       "    <tr>\n",
       "      <th>std</th>\n",
       "      <td>0.664753</td>\n",
       "      <td>0.701527</td>\n",
       "      <td>0.907525</td>\n",
       "      <td>1.138299</td>\n",
       "      <td>0.908016</td>\n",
       "      <td>0.957327</td>\n",
       "      <td>0.570588</td>\n",
       "      <td>0.834147</td>\n",
       "      <td>0.982979</td>\n",
       "      <td>0.905639</td>\n",
       "      <td>...</td>\n",
       "      <td>0.849406</td>\n",
       "      <td>0.864899</td>\n",
       "      <td>0.954873</td>\n",
       "      <td>1.130172</td>\n",
       "      <td>0.954744</td>\n",
       "      <td>0.450433</td>\n",
       "      <td>0.488723</td>\n",
       "      <td>0.726108</td>\n",
       "      <td>1.105908</td>\n",
       "      <td>1.597803</td>\n",
       "    </tr>\n",
       "    <tr>\n",
       "      <th>min</th>\n",
       "      <td>0.000000</td>\n",
       "      <td>0.000000</td>\n",
       "      <td>0.000000</td>\n",
       "      <td>0.000000</td>\n",
       "      <td>0.000000</td>\n",
       "      <td>0.000000</td>\n",
       "      <td>0.000000</td>\n",
       "      <td>0.000000</td>\n",
       "      <td>0.000000</td>\n",
       "      <td>0.000000</td>\n",
       "      <td>...</td>\n",
       "      <td>0.000000</td>\n",
       "      <td>0.000000</td>\n",
       "      <td>0.000000</td>\n",
       "      <td>0.000000</td>\n",
       "      <td>0.000000</td>\n",
       "      <td>0.000000</td>\n",
       "      <td>0.000000</td>\n",
       "      <td>0.000000</td>\n",
       "      <td>0.000000</td>\n",
       "      <td>1.000000</td>\n",
       "    </tr>\n",
       "    <tr>\n",
       "      <th>25%</th>\n",
       "      <td>2.000000</td>\n",
       "      <td>1.000000</td>\n",
       "      <td>1.000000</td>\n",
       "      <td>0.000000</td>\n",
       "      <td>0.000000</td>\n",
       "      <td>0.000000</td>\n",
       "      <td>0.000000</td>\n",
       "      <td>0.000000</td>\n",
       "      <td>0.000000</td>\n",
       "      <td>0.000000</td>\n",
       "      <td>...</td>\n",
       "      <td>0.000000</td>\n",
       "      <td>0.000000</td>\n",
       "      <td>0.000000</td>\n",
       "      <td>0.000000</td>\n",
       "      <td>0.000000</td>\n",
       "      <td>0.000000</td>\n",
       "      <td>0.000000</td>\n",
       "      <td>1.000000</td>\n",
       "      <td>0.000000</td>\n",
       "      <td>1.000000</td>\n",
       "    </tr>\n",
       "    <tr>\n",
       "      <th>50%</th>\n",
       "      <td>2.000000</td>\n",
       "      <td>2.000000</td>\n",
       "      <td>2.000000</td>\n",
       "      <td>1.000000</td>\n",
       "      <td>0.000000</td>\n",
       "      <td>0.000000</td>\n",
       "      <td>0.000000</td>\n",
       "      <td>0.000000</td>\n",
       "      <td>0.000000</td>\n",
       "      <td>0.000000</td>\n",
       "      <td>...</td>\n",
       "      <td>0.000000</td>\n",
       "      <td>0.000000</td>\n",
       "      <td>0.000000</td>\n",
       "      <td>0.000000</td>\n",
       "      <td>0.000000</td>\n",
       "      <td>0.000000</td>\n",
       "      <td>0.000000</td>\n",
       "      <td>2.000000</td>\n",
       "      <td>0.000000</td>\n",
       "      <td>3.000000</td>\n",
       "    </tr>\n",
       "    <tr>\n",
       "      <th>75%</th>\n",
       "      <td>2.000000</td>\n",
       "      <td>2.000000</td>\n",
       "      <td>2.000000</td>\n",
       "      <td>2.000000</td>\n",
       "      <td>1.000000</td>\n",
       "      <td>0.000000</td>\n",
       "      <td>0.000000</td>\n",
       "      <td>0.000000</td>\n",
       "      <td>1.000000</td>\n",
       "      <td>1.000000</td>\n",
       "      <td>...</td>\n",
       "      <td>0.000000</td>\n",
       "      <td>1.000000</td>\n",
       "      <td>0.000000</td>\n",
       "      <td>2.000000</td>\n",
       "      <td>0.000000</td>\n",
       "      <td>0.000000</td>\n",
       "      <td>0.000000</td>\n",
       "      <td>2.000000</td>\n",
       "      <td>0.000000</td>\n",
       "      <td>4.000000</td>\n",
       "    </tr>\n",
       "    <tr>\n",
       "      <th>max</th>\n",
       "      <td>3.000000</td>\n",
       "      <td>3.000000</td>\n",
       "      <td>3.000000</td>\n",
       "      <td>3.000000</td>\n",
       "      <td>3.000000</td>\n",
       "      <td>3.000000</td>\n",
       "      <td>3.000000</td>\n",
       "      <td>3.000000</td>\n",
       "      <td>3.000000</td>\n",
       "      <td>3.000000</td>\n",
       "      <td>...</td>\n",
       "      <td>3.000000</td>\n",
       "      <td>3.000000</td>\n",
       "      <td>3.000000</td>\n",
       "      <td>3.000000</td>\n",
       "      <td>3.000000</td>\n",
       "      <td>3.000000</td>\n",
       "      <td>3.000000</td>\n",
       "      <td>3.000000</td>\n",
       "      <td>3.000000</td>\n",
       "      <td>6.000000</td>\n",
       "    </tr>\n",
       "  </tbody>\n",
       "</table>\n",
       "<p>8 rows × 34 columns</p>\n",
       "</div>"
      ],
      "text/plain": [
       "         erythema     scaling  definite_borders     itching  \\\n",
       "count  366.000000  366.000000        366.000000  366.000000   \n",
       "mean     2.068306    1.795082          1.549180    1.366120   \n",
       "std      0.664753    0.701527          0.907525    1.138299   \n",
       "min      0.000000    0.000000          0.000000    0.000000   \n",
       "25%      2.000000    1.000000          1.000000    0.000000   \n",
       "50%      2.000000    2.000000          2.000000    1.000000   \n",
       "75%      2.000000    2.000000          2.000000    2.000000   \n",
       "max      3.000000    3.000000          3.000000    3.000000   \n",
       "\n",
       "       koebner_phenomenon  polygonal_papules  follicular_papules  \\\n",
       "count          366.000000         366.000000          366.000000   \n",
       "mean             0.633880           0.448087            0.166667   \n",
       "std              0.908016           0.957327            0.570588   \n",
       "min              0.000000           0.000000            0.000000   \n",
       "25%              0.000000           0.000000            0.000000   \n",
       "50%              0.000000           0.000000            0.000000   \n",
       "75%              1.000000           0.000000            0.000000   \n",
       "max              3.000000           3.000000            3.000000   \n",
       "\n",
       "       oral_mucosal_involvement  knee_and_elbow_involvement  \\\n",
       "count                366.000000                  366.000000   \n",
       "mean                   0.377049                    0.614754   \n",
       "std                    0.834147                    0.982979   \n",
       "min                    0.000000                    0.000000   \n",
       "25%                    0.000000                    0.000000   \n",
       "50%                    0.000000                    0.000000   \n",
       "75%                    0.000000                    1.000000   \n",
       "max                    3.000000                    3.000000   \n",
       "\n",
       "       scalp_involvement  ...  focal_hypergranulosis  \\\n",
       "count         366.000000  ...             366.000000   \n",
       "mean            0.519126  ...               0.393443   \n",
       "std             0.905639  ...               0.849406   \n",
       "min             0.000000  ...               0.000000   \n",
       "25%             0.000000  ...               0.000000   \n",
       "50%             0.000000  ...               0.000000   \n",
       "75%             1.000000  ...               0.000000   \n",
       "max             3.000000  ...               3.000000   \n",
       "\n",
       "       disappearance_granular_layer  vacuolisation_damage_basal_layer  \\\n",
       "count                    366.000000                        366.000000   \n",
       "mean                       0.464481                          0.456284   \n",
       "std                        0.864899                          0.954873   \n",
       "min                        0.000000                          0.000000   \n",
       "25%                        0.000000                          0.000000   \n",
       "50%                        0.000000                          0.000000   \n",
       "75%                        1.000000                          0.000000   \n",
       "max                        3.000000                          3.000000   \n",
       "\n",
       "       spongiosis  saw_tooth_appearance_retes  follicular_horn_plug  \\\n",
       "count  366.000000                  366.000000            366.000000   \n",
       "mean     0.953552                    0.453552              0.103825   \n",
       "std      1.130172                    0.954744              0.450433   \n",
       "min      0.000000                    0.000000              0.000000   \n",
       "25%      0.000000                    0.000000              0.000000   \n",
       "50%      0.000000                    0.000000              0.000000   \n",
       "75%      2.000000                    0.000000              0.000000   \n",
       "max      3.000000                    3.000000              3.000000   \n",
       "\n",
       "       perifollicular_parakeratosis  inflammatory_mononuclear_infiltrate  \\\n",
       "count                    366.000000                           366.000000   \n",
       "mean                       0.114754                             1.866120   \n",
       "std                        0.488723                             0.726108   \n",
       "min                        0.000000                             0.000000   \n",
       "25%                        0.000000                             1.000000   \n",
       "50%                        0.000000                             2.000000   \n",
       "75%                        0.000000                             2.000000   \n",
       "max                        3.000000                             3.000000   \n",
       "\n",
       "       band_like_infiltrate       class  \n",
       "count            366.000000  366.000000  \n",
       "mean               0.554645    2.803279  \n",
       "std                1.105908    1.597803  \n",
       "min                0.000000    1.000000  \n",
       "25%                0.000000    1.000000  \n",
       "50%                0.000000    3.000000  \n",
       "75%                0.000000    4.000000  \n",
       "max                3.000000    6.000000  \n",
       "\n",
       "[8 rows x 34 columns]"
      ]
     },
     "execution_count": 6,
     "metadata": {},
     "output_type": "execute_result"
    }
   ],
   "source": [
    "df.describe()"
   ]
  },
  {
   "cell_type": "code",
   "execution_count": 7,
   "id": "8a6bff2a",
   "metadata": {},
   "outputs": [
    {
     "data": {
      "text/plain": [
       "erythema                               0\n",
       "scaling                                0\n",
       "definite_borders                       0\n",
       "itching                                0\n",
       "koebner_phenomenon                     0\n",
       "polygonal_papules                      0\n",
       "follicular_papules                     0\n",
       "oral_mucosal_involvement               0\n",
       "knee_and_elbow_involvement             0\n",
       "scalp_involvement                      0\n",
       "family_history                         0\n",
       "melanin_incontinence                   0\n",
       "eosinophils_infiltrate                 0\n",
       "PNL_infiltrate                         0\n",
       "fibrosis_papillary_dermis              0\n",
       "exocytosis                             0\n",
       "acanthosis                             0\n",
       "hyperkeratosis                         0\n",
       "parakeratosis                          0\n",
       "clubbing_rete_ridges                   0\n",
       "elongation_rete_ridges                 0\n",
       "thinning_suprapapillary_epidermis      0\n",
       "spongiform_pustule                     0\n",
       "munro_microabcess                      0\n",
       "focal_hypergranulosis                  0\n",
       "disappearance_granular_layer           0\n",
       "vacuolisation_damage_basal_layer       0\n",
       "spongiosis                             0\n",
       "saw_tooth_appearance_retes             0\n",
       "follicular_horn_plug                   0\n",
       "perifollicular_parakeratosis           0\n",
       "inflammatory_mononuclear_infiltrate    0\n",
       "band_like_infiltrate                   0\n",
       "age                                    0\n",
       "class                                  0\n",
       "dtype: int64"
      ]
     },
     "execution_count": 7,
     "metadata": {},
     "output_type": "execute_result"
    }
   ],
   "source": [
    "df.isna().sum()"
   ]
  },
  {
   "cell_type": "code",
   "execution_count": 8,
   "id": "8bfffc8c",
   "metadata": {},
   "outputs": [
    {
     "data": {
      "text/html": [
       "<div>\n",
       "<style scoped>\n",
       "    .dataframe tbody tr th:only-of-type {\n",
       "        vertical-align: middle;\n",
       "    }\n",
       "\n",
       "    .dataframe tbody tr th {\n",
       "        vertical-align: top;\n",
       "    }\n",
       "\n",
       "    .dataframe thead th {\n",
       "        text-align: right;\n",
       "    }\n",
       "</style>\n",
       "<table border=\"1\" class=\"dataframe\">\n",
       "  <thead>\n",
       "    <tr style=\"text-align: right;\">\n",
       "      <th></th>\n",
       "      <th>erythema</th>\n",
       "      <th>scaling</th>\n",
       "      <th>definite_borders</th>\n",
       "      <th>itching</th>\n",
       "      <th>koebner_phenomenon</th>\n",
       "      <th>polygonal_papules</th>\n",
       "      <th>follicular_papules</th>\n",
       "      <th>oral_mucosal_involvement</th>\n",
       "      <th>knee_and_elbow_involvement</th>\n",
       "      <th>scalp_involvement</th>\n",
       "      <th>...</th>\n",
       "      <th>disappearance_granular_layer</th>\n",
       "      <th>vacuolisation_damage_basal_layer</th>\n",
       "      <th>spongiosis</th>\n",
       "      <th>saw_tooth_appearance_retes</th>\n",
       "      <th>follicular_horn_plug</th>\n",
       "      <th>perifollicular_parakeratosis</th>\n",
       "      <th>inflammatory_mononuclear_infiltrate</th>\n",
       "      <th>band_like_infiltrate</th>\n",
       "      <th>age</th>\n",
       "      <th>class</th>\n",
       "    </tr>\n",
       "  </thead>\n",
       "  <tbody>\n",
       "    <tr>\n",
       "      <th>0</th>\n",
       "      <td>2</td>\n",
       "      <td>2</td>\n",
       "      <td>0</td>\n",
       "      <td>3</td>\n",
       "      <td>0</td>\n",
       "      <td>0</td>\n",
       "      <td>0</td>\n",
       "      <td>0</td>\n",
       "      <td>1</td>\n",
       "      <td>0</td>\n",
       "      <td>...</td>\n",
       "      <td>0</td>\n",
       "      <td>0</td>\n",
       "      <td>3</td>\n",
       "      <td>0</td>\n",
       "      <td>0</td>\n",
       "      <td>0</td>\n",
       "      <td>1</td>\n",
       "      <td>0</td>\n",
       "      <td>55</td>\n",
       "      <td>2</td>\n",
       "    </tr>\n",
       "    <tr>\n",
       "      <th>1</th>\n",
       "      <td>3</td>\n",
       "      <td>3</td>\n",
       "      <td>3</td>\n",
       "      <td>2</td>\n",
       "      <td>1</td>\n",
       "      <td>0</td>\n",
       "      <td>0</td>\n",
       "      <td>0</td>\n",
       "      <td>1</td>\n",
       "      <td>1</td>\n",
       "      <td>...</td>\n",
       "      <td>0</td>\n",
       "      <td>0</td>\n",
       "      <td>0</td>\n",
       "      <td>0</td>\n",
       "      <td>0</td>\n",
       "      <td>0</td>\n",
       "      <td>1</td>\n",
       "      <td>0</td>\n",
       "      <td>8</td>\n",
       "      <td>1</td>\n",
       "    </tr>\n",
       "    <tr>\n",
       "      <th>2</th>\n",
       "      <td>2</td>\n",
       "      <td>1</td>\n",
       "      <td>2</td>\n",
       "      <td>3</td>\n",
       "      <td>1</td>\n",
       "      <td>3</td>\n",
       "      <td>0</td>\n",
       "      <td>3</td>\n",
       "      <td>0</td>\n",
       "      <td>0</td>\n",
       "      <td>...</td>\n",
       "      <td>0</td>\n",
       "      <td>2</td>\n",
       "      <td>3</td>\n",
       "      <td>2</td>\n",
       "      <td>0</td>\n",
       "      <td>0</td>\n",
       "      <td>2</td>\n",
       "      <td>3</td>\n",
       "      <td>26</td>\n",
       "      <td>3</td>\n",
       "    </tr>\n",
       "    <tr>\n",
       "      <th>3</th>\n",
       "      <td>2</td>\n",
       "      <td>2</td>\n",
       "      <td>2</td>\n",
       "      <td>0</td>\n",
       "      <td>0</td>\n",
       "      <td>0</td>\n",
       "      <td>0</td>\n",
       "      <td>0</td>\n",
       "      <td>3</td>\n",
       "      <td>2</td>\n",
       "      <td>...</td>\n",
       "      <td>3</td>\n",
       "      <td>0</td>\n",
       "      <td>0</td>\n",
       "      <td>0</td>\n",
       "      <td>0</td>\n",
       "      <td>0</td>\n",
       "      <td>3</td>\n",
       "      <td>0</td>\n",
       "      <td>40</td>\n",
       "      <td>1</td>\n",
       "    </tr>\n",
       "    <tr>\n",
       "      <th>4</th>\n",
       "      <td>2</td>\n",
       "      <td>3</td>\n",
       "      <td>2</td>\n",
       "      <td>2</td>\n",
       "      <td>2</td>\n",
       "      <td>2</td>\n",
       "      <td>0</td>\n",
       "      <td>2</td>\n",
       "      <td>0</td>\n",
       "      <td>0</td>\n",
       "      <td>...</td>\n",
       "      <td>2</td>\n",
       "      <td>3</td>\n",
       "      <td>2</td>\n",
       "      <td>3</td>\n",
       "      <td>0</td>\n",
       "      <td>0</td>\n",
       "      <td>2</td>\n",
       "      <td>3</td>\n",
       "      <td>45</td>\n",
       "      <td>3</td>\n",
       "    </tr>\n",
       "  </tbody>\n",
       "</table>\n",
       "<p>5 rows × 35 columns</p>\n",
       "</div>"
      ],
      "text/plain": [
       "   erythema  scaling  definite_borders  itching  koebner_phenomenon  \\\n",
       "0         2        2                 0        3                   0   \n",
       "1         3        3                 3        2                   1   \n",
       "2         2        1                 2        3                   1   \n",
       "3         2        2                 2        0                   0   \n",
       "4         2        3                 2        2                   2   \n",
       "\n",
       "   polygonal_papules  follicular_papules  oral_mucosal_involvement  \\\n",
       "0                  0                   0                         0   \n",
       "1                  0                   0                         0   \n",
       "2                  3                   0                         3   \n",
       "3                  0                   0                         0   \n",
       "4                  2                   0                         2   \n",
       "\n",
       "   knee_and_elbow_involvement  scalp_involvement  ...  \\\n",
       "0                           1                  0  ...   \n",
       "1                           1                  1  ...   \n",
       "2                           0                  0  ...   \n",
       "3                           3                  2  ...   \n",
       "4                           0                  0  ...   \n",
       "\n",
       "   disappearance_granular_layer  vacuolisation_damage_basal_layer  spongiosis  \\\n",
       "0                             0                                 0           3   \n",
       "1                             0                                 0           0   \n",
       "2                             0                                 2           3   \n",
       "3                             3                                 0           0   \n",
       "4                             2                                 3           2   \n",
       "\n",
       "   saw_tooth_appearance_retes  follicular_horn_plug  \\\n",
       "0                           0                     0   \n",
       "1                           0                     0   \n",
       "2                           2                     0   \n",
       "3                           0                     0   \n",
       "4                           3                     0   \n",
       "\n",
       "   perifollicular_parakeratosis  inflammatory_mononuclear_infiltrate  \\\n",
       "0                             0                                    1   \n",
       "1                             0                                    1   \n",
       "2                             0                                    2   \n",
       "3                             0                                    3   \n",
       "4                             0                                    2   \n",
       "\n",
       "   band_like_infiltrate  age  class  \n",
       "0                     0   55      2  \n",
       "1                     0    8      1  \n",
       "2                     3   26      3  \n",
       "3                     0   40      1  \n",
       "4                     3   45      3  \n",
       "\n",
       "[5 rows x 35 columns]"
      ]
     },
     "execution_count": 8,
     "metadata": {},
     "output_type": "execute_result"
    }
   ],
   "source": [
    "df.head()"
   ]
  },
  {
   "cell_type": "markdown",
   "id": "b1ef8cfe",
   "metadata": {},
   "source": [
    "# Applying Models"
   ]
  },
  {
   "cell_type": "markdown",
   "id": "bd6c1f1b",
   "metadata": {},
   "source": [
    "classification on independent and target variable"
   ]
  },
  {
   "cell_type": "code",
   "execution_count": 9,
   "id": "91e25aca",
   "metadata": {},
   "outputs": [],
   "source": [
    "X,y = df.iloc[:,0:33],df.iloc[:,-1]"
   ]
  },
  {
   "cell_type": "code",
   "execution_count": 10,
   "id": "a39b1f7d",
   "metadata": {},
   "outputs": [
    {
     "name": "stdout",
     "output_type": "stream",
     "text": [
      "(366, 33)\n",
      "(366,)\n"
     ]
    }
   ],
   "source": [
    "print(X.shape)\n",
    "print(y.shape)"
   ]
  },
  {
   "cell_type": "markdown",
   "id": "f7d2fdc9",
   "metadata": {},
   "source": [
    "Classification of training and testing data sets"
   ]
  },
  {
   "cell_type": "code",
   "execution_count": 11,
   "id": "aa3ca81d",
   "metadata": {},
   "outputs": [],
   "source": [
    "from sklearn.model_selection import train_test_split\n",
    "X_train,X_test,y_train,y_test = train_test_split(X,y,test_size = 0.2,random_state = 0) #testing\n",
    "X_train, X_val, y_train, y_val = train_test_split(X_train, y_train, test_size=0.3, random_state=42) # validation\n"
   ]
  },
  {
   "cell_type": "markdown",
   "id": "63721d49",
   "metadata": {},
   "source": [
    "Applying Gaussian Naive bayes model"
   ]
  },
  {
   "cell_type": "code",
   "execution_count": 12,
   "id": "84dcb562",
   "metadata": {},
   "outputs": [],
   "source": [
    "from sklearn.naive_bayes import GaussianNB\n",
    "\n",
    "# Build a Gaussian Classifier\n",
    "model = GaussianNB()\n",
    "\n",
    "# Model training\n",
    "model.fit(X_train, y_train)\n",
    "\n",
    "# Predict Output\n",
    "predicted = model.predict(X_test)\n",
    "y_val_pred = model.predict(X_val)"
   ]
  },
  {
   "cell_type": "code",
   "execution_count": 13,
   "id": "58fea59b",
   "metadata": {},
   "outputs": [
    {
     "name": "stdout",
     "output_type": "stream",
     "text": [
      "0.8295454545454546\n",
      "0.8378378378378378\n"
     ]
    }
   ],
   "source": [
    "from sklearn.metrics import accuracy_score\n",
    "acc_val_naive = accuracy_score(y_val,y_val_pred)\n",
    "acc_test_naive = accuracy_score(y_test,predicted)\n",
    "\n",
    "print(acc_val_naive)\n",
    "print(acc_test_naive)"
   ]
  },
  {
   "cell_type": "code",
   "execution_count": 14,
   "id": "6e7591b8",
   "metadata": {},
   "outputs": [
    {
     "name": "stdout",
     "output_type": "stream",
     "text": [
      "0.837838\n",
      "0.967687\n",
      "0.837838\n",
      "0.837838\n"
     ]
    }
   ],
   "source": [
    "from sklearn.metrics import precision_score, recall_score, f1_score\n",
    "\n",
    "precision = precision_score(y_test,predicted,average='micro')\n",
    "\n",
    "recall = recall_score(y_test,predicted,average='micro')\n",
    "\n",
    "overall_tnr = 0\n",
    "num_classes = len(set(y_test))  # Assuming the number of classes in your dataset\n",
    "\n",
    "for i in range(num_classes):\n",
    "    true_negatives = sum((y_test != i) & (predicted != i))\n",
    "    false_positives = sum((y_test != i) & (predicted == i))\n",
    "    true_neg_rate = true_negatives / (true_negatives + false_positives) if (true_negatives + false_positives) > 0 else 0\n",
    "    overall_tnr += true_neg_rate\n",
    "\n",
    "overall_tnr /= num_classes \n",
    "\n",
    "f1 = f1_score(y_test,predicted,average='micro')\n",
    "\n",
    "\n",
    "print(round(precision,6))\n",
    "print(round(overall_tnr,6))\n",
    "print(round(recall,6))\n",
    "print(round(f1,6))"
   ]
  },
  {
   "cell_type": "code",
   "execution_count": 15,
   "id": "f47f4ade",
   "metadata": {},
   "outputs": [
    {
     "name": "stdout",
     "output_type": "stream",
     "text": [
      "Confusion Matrix of Gaussian Naive bayes model\n",
      "[[15  0  0  0  0  0]\n",
      " [ 0  4  0  9  1  0]\n",
      " [ 0  0 16  0  0  0]\n",
      " [ 0  0  0 12  0  0]\n",
      " [ 0  0  0  0  9  0]\n",
      " [ 0  2  0  0  0  6]]\n"
     ]
    },
    {
     "data": {
      "text/plain": [
       "<Axes: >"
      ]
     },
     "execution_count": 15,
     "metadata": {},
     "output_type": "execute_result"
    },
    {
     "data": {
      "image/png": "[encoded data removed]",
      "text/plain": [
       "<Figure size 640x480 with 2 Axes>"
      ]
     },
     "metadata": {},
     "output_type": "display_data"
    }
   ],
   "source": [
    "from sklearn.metrics import confusion_matrix\n",
    "print(\"Confusion Matrix of Gaussian Naive bayes model\")\n",
    "print(confusion_matrix(y_test,predicted))\n",
    "mat1 = confusion_matrix(y_test,predicted)\n",
    "sns.heatmap(mat1, annot=True,cmap='Blues')"
   ]
  },
  {
   "cell_type": "markdown",
   "id": "2e6cc5f2",
   "metadata": {},
   "source": [
    "Observation : Applying Gaussian Naive bayes model on the data gives 84% accuracy."
   ]
  },
  {
   "cell_type": "markdown",
   "id": "74d7fc2c",
   "metadata": {},
   "source": [
    "Applying RandomForestClassifier model"
   ]
  },
  {
   "cell_type": "code",
   "execution_count": 16,
   "id": "51f122a5",
   "metadata": {},
   "outputs": [],
   "source": [
    "from sklearn.ensemble import RandomForestClassifier\n",
    "\n",
    "rf_classifier = RandomForestClassifier(n_estimators=100, random_state=42)\n",
    "\n",
    "# Training the classifier\n",
    "rf_classifier.fit(X_train, y_train)\n",
    "\n",
    "# Making predictions\n",
    "predictions = rf_classifier.predict(X_test)\n",
    "y_val_pred = rf_classifier.predict(X_val)"
   ]
  },
  {
   "cell_type": "code",
   "execution_count": 17,
   "id": "8b58b020",
   "metadata": {},
   "outputs": [
    {
     "name": "stdout",
     "output_type": "stream",
     "text": [
      "0.9659090909090909\n",
      "0.972972972972973\n"
     ]
    }
   ],
   "source": [
    "# Evaluating the model\n",
    "acc_val_rf = accuracy_score(y_val,y_val_pred)\n",
    "acc_test_rf = accuracy_score(y_test,predictions)\n",
    "\n",
    "print(acc_val_rf)\n",
    "print(acc_test_rf)"
   ]
  },
  {
   "cell_type": "code",
   "execution_count": 18,
   "id": "87f1e7fe",
   "metadata": {},
   "outputs": [
    {
     "name": "stdout",
     "output_type": "stream",
     "text": [
      "Confusion Matrix of RandomForestClassifier\n",
      "[[15  0  0  0  0  0]\n",
      " [ 0 13  0  1  0  0]\n",
      " [ 0  0 16  0  0  0]\n",
      " [ 0  0  0 12  0  0]\n",
      " [ 0  0  0  0  9  0]\n",
      " [ 1  0  0  0  0  7]]\n"
     ]
    },
    {
     "data": {
      "text/plain": [
       "<Axes: >"
      ]
     },
     "execution_count": 18,
     "metadata": {},
     "output_type": "execute_result"
    },
    {
     "data": {
      "image/png": "[encoded data removed]",
      "text/plain": [
       "<Figure size 640x480 with 2 Axes>"
      ]
     },
     "metadata": {},
     "output_type": "display_data"
    }
   ],
   "source": [
    "from sklearn.metrics import confusion_matrix\n",
    "print(\"Confusion Matrix of RandomForestClassifier\")\n",
    "print(confusion_matrix(y_test,predictions))\n",
    "mat2 = confusion_matrix(y_test,predictions)\n",
    "sns.heatmap(mat2, annot=True,cmap='Blues')"
   ]
  },
  {
   "cell_type": "code",
   "execution_count": 19,
   "id": "cdf55cac",
   "metadata": {},
   "outputs": [
    {
     "name": "stdout",
     "output_type": "stream",
     "text": [
      "0.972973\n",
      "0.994487\n",
      "0.972973\n",
      "0.972973\n"
     ]
    }
   ],
   "source": [
    "from sklearn.metrics import precision_score, recall_score, f1_score\n",
    "\n",
    "precision = precision_score(y_test,predictions,average='micro')\n",
    "\n",
    "recall = recall_score(y_test,predictions,average='micro')\n",
    "\n",
    "overall_tnr = 0\n",
    "num_classes = len(set(y_test))  # Assuming the number of classes in your dataset\n",
    "\n",
    "for i in range(num_classes):\n",
    "    true_negatives = sum((y_test != i) & (predictions != i))\n",
    "    false_positives = sum((y_test != i) & (predictions == i))\n",
    "    true_neg_rate = true_negatives / (true_negatives + false_positives) if (true_negatives + false_positives) > 0 else 0\n",
    "    overall_tnr += true_neg_rate\n",
    "\n",
    "overall_tnr /= num_classes \n",
    "\n",
    "f1 = f1_score(y_test,predictions,average='micro')\n",
    "\n",
    "\n",
    "print(round(precision,6))\n",
    "print(round(overall_tnr,6))\n",
    "print(round(recall,6))\n",
    "print(round(f1,6))"
   ]
  },
  {
   "cell_type": "markdown",
   "id": "b7ade16c",
   "metadata": {},
   "source": [
    "Observation : Applying RandomForestClassifier model on the data gives 97% accuracy."
   ]
  },
  {
   "cell_type": "markdown",
   "id": "3f932ac2",
   "metadata": {},
   "source": [
    "Applying Support Vector Classifier"
   ]
  },
  {
   "cell_type": "code",
   "execution_count": 20,
   "id": "e98d8d3d",
   "metadata": {},
   "outputs": [],
   "source": [
    "from sklearn.svm import SVC\n",
    "\n",
    "svm_classifier = SVC(kernel='linear', C=1.0, random_state=42)\n",
    "\n",
    "# Training the classifier\n",
    "svm_classifier.fit(X_train, y_train)\n",
    "\n",
    "# Making predictions\n",
    "predictions = svm_classifier.predict(X_test)\n",
    "y_val_pred = svm_classifier.predict(X_val)"
   ]
  },
  {
   "cell_type": "code",
   "execution_count": 21,
   "id": "9670b0c0",
   "metadata": {},
   "outputs": [
    {
     "name": "stdout",
     "output_type": "stream",
     "text": [
      "0.9545454545454546\n",
      "0.9864864864864865\n"
     ]
    }
   ],
   "source": [
    "# Evaluating the model\n",
    "acc_val_svm = accuracy_score(y_val,y_val_pred)\n",
    "acc_test_svm = accuracy_score(y_test,predictions)\n",
    "\n",
    "print(acc_val_svm)\n",
    "print(acc_test_svm)"
   ]
  },
  {
   "cell_type": "code",
   "execution_count": 22,
   "id": "bbd89320",
   "metadata": {},
   "outputs": [
    {
     "name": "stdout",
     "output_type": "stream",
     "text": [
      "Confusion Matrix of Support Vector Classifier\n",
      "[[15  0  0  0  0  0]\n",
      " [ 0 13  0  1  0  0]\n",
      " [ 0  0 16  0  0  0]\n",
      " [ 0  0  0 12  0  0]\n",
      " [ 0  0  0  0  9  0]\n",
      " [ 0  0  0  0  0  8]]\n"
     ]
    },
    {
     "data": {
      "text/plain": [
       "<Axes: >"
      ]
     },
     "execution_count": 22,
     "metadata": {},
     "output_type": "execute_result"
    },
    {
     "data": {
      "image/png": "[encoded data removed]",
      "text/plain": [
       "<Figure size 640x480 with 2 Axes>"
      ]
     },
     "metadata": {},
     "output_type": "display_data"
    }
   ],
   "source": [
    "from sklearn.metrics import confusion_matrix\n",
    "print(\"Confusion Matrix of Support Vector Classifier\")\n",
    "print(confusion_matrix(y_test,predictions))\n",
    "mat3 = confusion_matrix(y_test,predictions)\n",
    "sns.heatmap(mat3, annot=True,cmap='Blues')"
   ]
  },
  {
   "cell_type": "code",
   "execution_count": 23,
   "id": "a648b3ea",
   "metadata": {},
   "outputs": [
    {
     "name": "stdout",
     "output_type": "stream",
     "text": [
      "0.986486\n",
      "0.997312\n",
      "0.986486\n",
      "0.986486\n"
     ]
    }
   ],
   "source": [
    "from sklearn.metrics import precision_score, recall_score, f1_score\n",
    "\n",
    "precision = precision_score(y_test,predictions,average='micro')\n",
    "\n",
    "recall = recall_score(y_test,predictions,average='micro')\n",
    "\n",
    "overall_tnr = 0\n",
    "num_classes = len(set(y_test))  # Assuming the number of classes in your dataset\n",
    "\n",
    "for i in range(num_classes):\n",
    "    true_negatives = sum((y_test != i) & (predictions != i))\n",
    "    false_positives = sum((y_test != i) & (predictions == i))\n",
    "    true_neg_rate = true_negatives / (true_negatives + false_positives) if (true_negatives + false_positives) > 0 else 0\n",
    "    overall_tnr += true_neg_rate\n",
    "\n",
    "overall_tnr /= num_classes \n",
    "\n",
    "f1 = f1_score(y_test,predictions,average='micro')\n",
    "\n",
    "\n",
    "print(round(precision,6))\n",
    "print(round(overall_tnr,6))\n",
    "print(round(recall,6))\n",
    "print(round(f1,6))"
   ]
  },
  {
   "cell_type": "markdown",
   "id": "da95744a",
   "metadata": {},
   "source": [
    "Observation : Applying Support vector classifier on the data gives 99% accuracy."
   ]
  },
  {
   "cell_type": "markdown",
   "id": "21ab91d5",
   "metadata": {},
   "source": []
  },
  {
   "cell_type": "code",
   "execution_count": 24,
   "id": "bbe1d1a0",
   "metadata": {},
   "outputs": [
    {
     "data": {
      "image/png": "[encoded data removed]",
      "text/plain": [
       "<Figure size 600x400 with 1 Axes>"
      ]
     },
     "metadata": {},
     "output_type": "display_data"
    }
   ],
   "source": [
    "import matplotlib.pyplot as plt\n",
    "\n",
    "val_accuracies = [acc_val_naive, acc_val_rf, acc_val_svm]\n",
    "test_accuracies = [acc_test_naive, acc_test_rf, acc_test_svm]\n",
    "\n",
    "models = ['Naive Bayes', 'Random Forest', 'SVM']\n",
    "bar_width = 0.35\n",
    "index = range(len(models))\n",
    "\n",
    "plt.figure(figsize=(6,4))\n",
    "\n",
    "plt.bar(index, val_accuracies, bar_width, label='Validation', color='skyblue')\n",
    "plt.bar([i + bar_width for i in index], test_accuracies, bar_width, label='Test', color='pink')\n",
    "\n",
    "plt.xlabel('Models')\n",
    "plt.ylabel('Accuracy')\n",
    "plt.title('Validation and Test Accuracies of Different Models')\n",
    "plt.xticks([i + bar_width / 2 for i in index], models)\n",
    "plt.legend()\n",
    "\n",
    "plt.tight_layout()\n",
    "plt.show()\n"
   ]
  },
  {
   "cell_type": "markdown",
   "id": "5db59e79",
   "metadata": {},
   "source": [
    "Applying KNeighbors Classifier"
   ]
  },
  {
   "cell_type": "code",
   "execution_count": 25,
   "id": "1b75db2c",
   "metadata": {},
   "outputs": [],
   "source": [
    "from sklearn.neighbors import KNeighborsClassifier\n",
    "\n",
    "knn = KNeighborsClassifier(n_neighbors=5)  # You can adjust the number of neighbors\n",
    "\n",
    "knn.fit(X_train, y_train)\n",
    "\n",
    "predicted_knn = knn.predict(X_test)\n",
    "y_val_pred_knn = knn.predict(X_val)"
   ]
  },
  {
   "cell_type": "code",
   "execution_count": 26,
   "id": "b1923ded",
   "metadata": {},
   "outputs": [
    {
     "name": "stdout",
     "output_type": "stream",
     "text": [
      "0.9431818181818182\n",
      "0.972972972972973\n"
     ]
    }
   ],
   "source": [
    "# Calculate accuracy\n",
    "acc_val_knn = accuracy_score(y_val, y_val_pred_knn)\n",
    "acc_test_knn = accuracy_score(y_test, predicted_knn)\n",
    "\n",
    "print(acc_val_knn)\n",
    "print(acc_test_knn)"
   ]
  },
  {
   "cell_type": "code",
   "execution_count": 27,
   "id": "e6f44bb1",
   "metadata": {},
   "outputs": [
    {
     "name": "stdout",
     "output_type": "stream",
     "text": [
      "0.972973\n",
      "0.994624\n",
      "0.972973\n",
      "0.972973\n"
     ]
    }
   ],
   "source": [
    "# Calculate precision, recall, f1 score\n",
    "precision_knn = precision_score(y_test, predicted_knn, average='micro')\n",
    "recall_knn = recall_score(y_test, predicted_knn, average='micro')\n",
    "\n",
    "overall_tnr_knn = 0\n",
    "num_classes = len(set(y_test))\n",
    "\n",
    "for i in range(num_classes):\n",
    "    true_negatives = sum((y_test != i) & (predicted_knn != i))\n",
    "    false_positives = sum((y_test != i) & (predicted_knn == i))\n",
    "    true_neg_rate = true_negatives / (true_negatives + false_positives) if (true_negatives + false_positives) > 0 else 0\n",
    "    overall_tnr_knn += true_neg_rate\n",
    "\n",
    "overall_tnr_knn /= num_classes \n",
    "\n",
    "f1_knn = f1_score(y_test, predicted_knn, average='micro')\n",
    "\n",
    "print(round(precision_knn, 6))\n",
    "print(round(overall_tnr_knn, 6))\n",
    "print(round(recall_knn, 6))\n",
    "print(round(f1_knn, 6))"
   ]
  },
  {
   "cell_type": "code",
   "execution_count": 28,
   "id": "cd39797e",
   "metadata": {},
   "outputs": [
    {
     "name": "stdout",
     "output_type": "stream",
     "text": [
      "Confusion Matrix of KNN model\n",
      "[[15  0  0  0  0  0]\n",
      " [ 0 12  0  2  0  0]\n",
      " [ 0  0 16  0  0  0]\n",
      " [ 0  0  0 12  0  0]\n",
      " [ 0  0  0  0  9  0]\n",
      " [ 0  0  0  0  0  8]]\n"
     ]
    },
    {
     "data": {
      "image/png": "[encoded data removed]",
      "text/plain": [
       "<Figure size 600x600 with 2 Axes>"
      ]
     },
     "metadata": {},
     "output_type": "display_data"
    }
   ],
   "source": [
    "# Confusion Matrix\n",
    "print(\"Confusion Matrix of KNN model\")\n",
    "conf_matrix_knn = confusion_matrix(y_test, predicted_knn)\n",
    "print(conf_matrix_knn)\n",
    "\n",
    "# Plotting the confusion matrix\n",
    "plt.figure(figsize=(6,6))\n",
    "sns.heatmap(conf_matrix_knn, annot=True, cmap='Blues', fmt='g')\n",
    "plt.xlabel('Predicted')\n",
    "plt.ylabel('Actual')\n",
    "plt.title('Confusion Matrix - KNN')\n",
    "plt.show()\n"
   ]
  },
  {
   "cell_type": "markdown",
   "id": "33f69696",
   "metadata": {},
   "source": [
    "Applying Logistic Regression"
   ]
  },
  {
   "cell_type": "code",
   "execution_count": 29,
   "id": "009e3f8a",
   "metadata": {},
   "outputs": [],
   "source": [
    "from sklearn.linear_model import LogisticRegression\n",
    "\n",
    "log_reg = LogisticRegression(max_iter=1000)  # You can adjust max_iter based on your dataset\n",
    "\n",
    "# Model training\n",
    "log_reg.fit(X_train, y_train)\n",
    "\n",
    "# Predict Output\n",
    "predicted_log_reg = log_reg.predict(X_test)\n",
    "y_val_pred_log_reg = log_reg.predict(X_val)"
   ]
  },
  {
   "cell_type": "code",
   "execution_count": 30,
   "id": "24fd42f2",
   "metadata": {},
   "outputs": [
    {
     "name": "stdout",
     "output_type": "stream",
     "text": [
      "0.9431818181818182\n",
      "0.9864864864864865\n"
     ]
    }
   ],
   "source": [
    "# Calculate accuracy\n",
    "acc_val_log_reg = accuracy_score(y_val, y_val_pred_log_reg)\n",
    "acc_test_log_reg = accuracy_score(y_test, predicted_log_reg)\n",
    "\n",
    "print(acc_val_log_reg)\n",
    "print(acc_test_log_reg)"
   ]
  },
  {
   "cell_type": "code",
   "execution_count": 31,
   "id": "f8f8e4f6",
   "metadata": {},
   "outputs": [
    {
     "name": "stdout",
     "output_type": "stream",
     "text": [
      "0.986486\n",
      "0.997312\n",
      "0.986486\n",
      "0.986486\n"
     ]
    }
   ],
   "source": [
    "# Calculate precision, recall, f1 score\n",
    "precision_log_reg = precision_score(y_test, predicted_log_reg, average='micro')\n",
    "recall_log_reg = recall_score(y_test, predicted_log_reg, average='micro')\n",
    "\n",
    "overall_tnr_log_reg = 0\n",
    "num_classes = len(set(y_test))\n",
    "\n",
    "for i in range(num_classes):\n",
    "    true_negatives = sum((y_test != i) & (predicted_log_reg != i))\n",
    "    false_positives = sum((y_test != i) & (predicted_log_reg == i))\n",
    "    true_neg_rate = true_negatives / (true_negatives + false_positives) if (true_negatives + false_positives) > 0 else 0\n",
    "    overall_tnr_log_reg += true_neg_rate\n",
    "\n",
    "overall_tnr_log_reg /= num_classes \n",
    "\n",
    "f1_log_reg = f1_score(y_test, predicted_log_reg, average='micro')\n",
    "\n",
    "print(round(precision_log_reg, 6))\n",
    "print(round(overall_tnr_log_reg, 6))\n",
    "print(round(recall_log_reg, 6))\n",
    "print(round(f1_log_reg, 6))"
   ]
  },
  {
   "cell_type": "code",
   "execution_count": 32,
   "id": "6d928d50",
   "metadata": {},
   "outputs": [
    {
     "name": "stdout",
     "output_type": "stream",
     "text": [
      "0.986486\n",
      "0.997312\n",
      "0.986486\n",
      "0.986486\n",
      "Confusion Matrix of Logistic Regression model\n",
      "[[15  0  0  0  0  0]\n",
      " [ 0 13  0  1  0  0]\n",
      " [ 0  0 16  0  0  0]\n",
      " [ 0  0  0 12  0  0]\n",
      " [ 0  0  0  0  9  0]\n",
      " [ 0  0  0  0  0  8]]\n"
     ]
    },
    {
     "data": {
      "image/png": "[encoded data removed]",
      "text/plain": [
       "<Figure size 600x600 with 2 Axes>"
      ]
     },
     "metadata": {},
     "output_type": "display_data"
    }
   ],
   "source": [
    "# Calculate precision, recall, f1 score\n",
    "precision_log_reg = precision_score(y_test, predicted_log_reg, average='micro')\n",
    "recall_log_reg = recall_score(y_test, predicted_log_reg, average='micro')\n",
    "\n",
    "overall_tnr_log_reg = 0\n",
    "num_classes = len(set(y_test))\n",
    "\n",
    "for i in range(num_classes):\n",
    "    true_negatives = sum((y_test != i) & (predicted_log_reg != i))\n",
    "    false_positives = sum((y_test != i) & (predicted_log_reg == i))\n",
    "    true_neg_rate = true_negatives / (true_negatives + false_positives) if (true_negatives + false_positives) > 0 else 0\n",
    "    overall_tnr_log_reg += true_neg_rate\n",
    "\n",
    "overall_tnr_log_reg /= num_classes \n",
    "\n",
    "f1_log_reg = f1_score(y_test, predicted_log_reg, average='micro')\n",
    "\n",
    "print(round(precision_log_reg, 6))\n",
    "print(round(overall_tnr_log_reg, 6))\n",
    "print(round(recall_log_reg, 6))\n",
    "print(round(f1_log_reg, 6))\n",
    "\n",
    "# Confusion Matrix\n",
    "print(\"Confusion Matrix of Logistic Regression model\")\n",
    "conf_matrix_log_reg = confusion_matrix(y_test, predicted_log_reg)\n",
    "print(conf_matrix_log_reg)\n",
    "\n",
    "# Plotting the confusion matrix\n",
    "plt.figure(figsize=(6, 6))\n",
    "sns.heatmap(conf_matrix_log_reg, annot=True, cmap='Blues', fmt='g')\n",
    "plt.xlabel('Predicted')\n",
    "plt.ylabel('Actual')\n",
    "plt.title('Confusion Matrix - Logistic Regression')\n",
    "plt.show()\n"
   ]
  },
  {
   "cell_type": "markdown",
   "id": "e54c3a67",
   "metadata": {},
   "source": [
    "Applying Gradient Booster"
   ]
  },
  {
   "cell_type": "code",
   "execution_count": 33,
   "id": "abc2f875",
   "metadata": {},
   "outputs": [],
   "source": [
    "from sklearn.ensemble import GradientBoostingClassifier\n",
    "from sklearn.metrics import accuracy_score, precision_score, recall_score, f1_score, confusion_matrix\n",
    "import seaborn as sns\n",
    "import matplotlib.pyplot as plt\n",
    "\n",
    "# Initialize the Gradient Boosting Classifier\n",
    "gbc = GradientBoostingClassifier()\n",
    "\n",
    "# Model training\n",
    "gbc.fit(X_train, y_train)\n",
    "\n",
    "# Predict Output\n",
    "predicted_gbc = gbc.predict(X_test)\n",
    "y_val_pred_gbc = gbc.predict(X_val)"
   ]
  },
  {
   "cell_type": "code",
   "execution_count": 34,
   "id": "0d1981a0",
   "metadata": {},
   "outputs": [
    {
     "name": "stdout",
     "output_type": "stream",
     "text": [
      "0.9545454545454546\n",
      "0.972972972972973\n"
     ]
    }
   ],
   "source": [
    "# Calculate accuracy\n",
    "acc_val_gbc = accuracy_score(y_val, y_val_pred_gbc)\n",
    "acc_test_gbc = accuracy_score(y_test, predicted_gbc)\n",
    "\n",
    "print(acc_val_gbc)\n",
    "print(acc_test_gbc)"
   ]
  },
  {
   "cell_type": "code",
   "execution_count": 35,
   "id": "6251b461",
   "metadata": {},
   "outputs": [
    {
     "name": "stdout",
     "output_type": "stream",
     "text": [
      "0.972973\n",
      "0.994487\n",
      "0.972973\n",
      "0.972973\n"
     ]
    }
   ],
   "source": [
    "# Calculate precision, recall, f1 score\n",
    "precision_gbc = precision_score(y_test, predicted_gbc, average='micro')\n",
    "recall_gbc = recall_score(y_test, predicted_gbc, average='micro')\n",
    "\n",
    "overall_tnr_gbc = 0\n",
    "num_classes = len(set(y_test))\n",
    "\n",
    "for i in range(num_classes):\n",
    "    true_negatives = sum((y_test != i) & (predicted_gbc != i))\n",
    "    false_positives = sum((y_test != i) & (predicted_gbc == i))\n",
    "    true_neg_rate = true_negatives / (true_negatives + false_positives) if (true_negatives + false_positives) > 0 else 0\n",
    "    overall_tnr_gbc += true_neg_rate\n",
    "\n",
    "overall_tnr_gbc /= num_classes \n",
    "\n",
    "f1_gbc = f1_score(y_test, predicted_gbc, average='micro')\n",
    "\n",
    "print(round(precision_gbc, 6))\n",
    "print(round(overall_tnr_gbc, 6))\n",
    "print(round(recall_gbc, 6))\n",
    "print(round(f1_gbc, 6))"
   ]
  },
  {
   "cell_type": "code",
   "execution_count": 36,
   "id": "80743fcd",
   "metadata": {},
   "outputs": [
    {
     "name": "stdout",
     "output_type": "stream",
     "text": [
      "Confusion Matrix of Gradient Boosting Classifier\n",
      "[[15  0  0  0  0  0]\n",
      " [ 0 13  0  1  0  0]\n",
      " [ 0  0 16  0  0  0]\n",
      " [ 0  0  0 12  0  0]\n",
      " [ 0  0  0  0  9  0]\n",
      " [ 1  0  0  0  0  7]]\n"
     ]
    },
    {
     "data": {
      "image/png": "[encoded data removed]",
      "text/plain": [
       "<Figure size 600x600 with 2 Axes>"
      ]
     },
     "metadata": {},
     "output_type": "display_data"
    }
   ],
   "source": [
    "# Confusion Matrix\n",
    "print(\"Confusion Matrix of Gradient Boosting Classifier\")\n",
    "conf_matrix_gbc = confusion_matrix(y_test, predicted_gbc)\n",
    "print(conf_matrix_gbc)\n",
    "\n",
    "# Plotting the confusion matrix\n",
    "plt.figure(figsize=(6, 6))\n",
    "sns.heatmap(conf_matrix_gbc, annot=True, cmap='Blues', fmt='g')\n",
    "plt.xlabel('Predicted')\n",
    "plt.ylabel('Actual')\n",
    "plt.title('Confusion Matrix - Gradient Boosting Classifier')\n",
    "plt.show()\n"
   ]
  },
  {
   "cell_type": "code",
   "execution_count": null,
   "id": "03d2315c",
   "metadata": {},
   "outputs": [],
   "source": []
  }
 ],
 "metadata": {
  "kernelspec": {
   "display_name": "Python 3 (ipykernel)",
   "language": "python",
   "name": "python3"
  },
  "language_info": {
   "codemirror_mode": {
    "name": "ipython",
    "version": 3
   },
   "file_extension": ".py",
   "mimetype": "text/x-python",
   "name": "python",
   "nbconvert_exporter": "python",
   "pygments_lexer": "ipython3",
   "version": "3.10.9"
  }
 },
 "nbformat": 4,
 "nbformat_minor": 5
}
